{
 "cells": [
  {
   "cell_type": "markdown",
   "id": "5c38e090",
   "metadata": {},
   "source": [
    "# Traitement et stockage des données issues du scraping\n",
    "\n",
    "Vous avez scrapé les données du site de livres et les avez stockées dans un fichier (CSV ou JSON). \n",
    "\n",
    "L'objectif de ce notebook est de créer une base de données pour y stocker ces données."
   ]
  },
  {
   "cell_type": "code",
   "execution_count": null,
   "id": "fc007873",
   "metadata": {},
   "outputs": [],
   "source": [
    "import sqlite3\n",
    "import pandas as pd"
   ]
  },
  {
   "cell_type": "markdown",
   "id": "dd34cc58",
   "metadata": {},
   "source": [
    "Chercher dans la doc [pandas](https://pandas.pydata.org/docs/) la fonction permettant de lire les données d'un fichier (CSV ou JSON)."
   ]
  },
  {
   "cell_type": "code",
   "execution_count": null,
   "id": "8aa4b567",
   "metadata": {},
   "outputs": [],
   "source": [
    "# Lire les données du fichier que vous venez d'enregistrer\n",
    "df_books = "
   ]
  },
  {
   "cell_type": "markdown",
   "id": "56d48fb1",
   "metadata": {},
   "source": [
    "## 1. Prétraitement des données\n",
    "\n",
    "On souhaite créer la table _book_ contenant les attributs suivants : \n",
    "- id : INT, PK,\n",
    "- title : TEXT,\n",
    "- price : DECIMAL\n",
    "- availability : BOOLEAN\n",
    "- rating : INT [0:5]\n",
    "\n",
    "Vérifier que les données du dataframe ont les types attendus en utilisant la méthode pandas [_info_](https://pandas.pydata.org/pandas-docs/stable/reference/api/pandas.DataFrame.info.html)."
   ]
  },
  {
   "cell_type": "code",
   "execution_count": null,
   "id": "0505d094",
   "metadata": {},
   "outputs": [],
   "source": [
    "# Vérification des types de données\n"
   ]
  },
  {
   "cell_type": "markdown",
   "id": "1be2df09",
   "metadata": {},
   "source": [
    "Utiliser la méthode pandas [_astype_](https://pandas.pydata.org/pandas-docs/stable/reference/api/pandas.DataFrame.astype.html) pour convertir la colonne de titre en chaîne de caractère."
   ]
  },
  {
   "cell_type": "code",
   "execution_count": null,
   "id": "10f0638f",
   "metadata": {},
   "outputs": [],
   "source": [
    "# Conversion de title en chaîne de caractères\n",
    "df_books[\"title\"] = \n",
    "\n",
    "# Vérification du type de la colonne title\n",
    "print(df_books[\"title\"].dtype)"
   ]
  },
  {
   "cell_type": "markdown",
   "id": "e4e6b924",
   "metadata": {},
   "source": [
    "Pour convertir la colonne de prix en nombre décimal, il est nécessaire d'utiliser une étape intermédiaire pour retirer le caractère \"£\".\n",
    "\n",
    "Il est possible par exemple d'utiliser l'attribut [.str](https://pandas.pydata.org/pandas-docs/stable/reference/api/pandas.Series.str.html) de la série \"price\"."
   ]
  },
  {
   "cell_type": "code",
   "execution_count": null,
   "id": "5e6bd8ce",
   "metadata": {},
   "outputs": [],
   "source": [
    "# Convertir la colonne price en type décimal\n",
    "df_books[\"price\"] = \n",
    "\n",
    "# Vérification du type de la colonne price\n",
    "print(df_books[\"price\"].dtype)"
   ]
  },
  {
   "cell_type": "markdown",
   "id": "a537478f",
   "metadata": {},
   "source": [
    "Convertir la colonne `availability` en boolen (True/False).\n",
    "\n",
    "Afficher d'abord les valeurs possibles de la colonne `availability` en utilisant par exemple la méthode `.value_counts`."
   ]
  },
  {
   "cell_type": "code",
   "execution_count": null,
   "id": "fbadd4ca",
   "metadata": {},
   "outputs": [],
   "source": [
    "# Valeurs possibles de la colonne availability\n"
   ]
  },
  {
   "cell_type": "markdown",
   "id": "6c12b18a",
   "metadata": {},
   "source": [
    "Créer une fonction qui prend en entrée la valeur de `availability` et qui renvoie True ou False en fonction de la valeur d'entrée."
   ]
  },
  {
   "cell_type": "code",
   "execution_count": null,
   "id": "679627d6",
   "metadata": {},
   "outputs": [],
   "source": [
    "# Fonction pour convertir la valeur de availability en booléen\n",
    "def convert_availability(value):\n",
    "    \"\"\"Convert the availability value to a boolean.\n",
    "\n",
    "    Args:\n",
    "        value (str): The availability status of the book.\n",
    "\n",
    "    Returns:\n",
    "        bool: True if the book is available, False otherwise.\n",
    "    \"\"\"\n",
    "    "
   ]
  },
  {
   "cell_type": "markdown",
   "id": "0dad009f",
   "metadata": {},
   "source": [
    "Utiliser la fonction [`apply`](https://pandas.pydata.org/pandas-docs/stable/reference/api/pandas.DataFrame.apply.html) pour appliquer la fonction à la colonne `availability`."
   ]
  },
  {
   "cell_type": "code",
   "execution_count": null,
   "id": "3de7ec67",
   "metadata": {},
   "outputs": [],
   "source": [
    "# Convertir la colonne availability en booléen (True/False)\n",
    "df_books[\"availability\"] = \n",
    "\n",
    "# Vérification du type de la colonne availability\n",
    "print(df_books[\"availability\"].dtype)"
   ]
  },
  {
   "cell_type": "markdown",
   "id": "fd9877d9",
   "metadata": {},
   "source": [
    "Convertir la colonne _rating_ en chiffre en utilisant un dictionnaire `rating_map` et la méthode [_map_](https://pandas.pydata.org/pandas-docs/stable/reference/api/pandas.Series.map.html)."
   ]
  },
  {
   "cell_type": "code",
   "execution_count": null,
   "id": "0d95564c",
   "metadata": {},
   "outputs": [],
   "source": [
    "# Convertir la colonne rating en int\n",
    "ratings_map = \n",
    "\n",
    "df_books[\"rating\"] =\n",
    "\n",
    "# Vérification du type de la colonne rating\n",
    "print(df_books[\"rating\"].dtype)"
   ]
  },
  {
   "cell_type": "markdown",
   "id": "e7575cf4",
   "metadata": {},
   "source": [
    "---\n",
    "## 2. Création d'une BDD\n",
    "\n",
    "Création d'une base de données sqlite _livres.db_ (ou connexion à la base si déjà existante)."
   ]
  },
  {
   "cell_type": "code",
   "execution_count": null,
   "id": "9d9cbf16",
   "metadata": {},
   "outputs": [],
   "source": [
    "# conn : object de connexion à la base de données\n",
    "conn = sqlite3.connect('book_store.db')"
   ]
  },
  {
   "cell_type": "markdown",
   "id": "c01dbf7a",
   "metadata": {},
   "source": [
    "Écrire la requête SQL qui permet de créer la table `book`."
   ]
  },
  {
   "cell_type": "code",
   "execution_count": null,
   "id": "db94d962",
   "metadata": {},
   "outputs": [],
   "source": [
    "# requête SQL pour créer la table book\n",
    "sql_create_table = '''\n",
    "\n",
    "'''"
   ]
  },
  {
   "cell_type": "markdown",
   "id": "00afd411",
   "metadata": {},
   "source": [
    "Exécuter la requête en utilisant la méthode `execute` de `conn`."
   ]
  },
  {
   "cell_type": "code",
   "execution_count": null,
   "id": "38adf6fb",
   "metadata": {},
   "outputs": [],
   "source": [
    "# Création de la table\n"
   ]
  },
  {
   "cell_type": "markdown",
   "id": "71bf1243",
   "metadata": {},
   "source": [
    "Chercher et utiliser la méthode pandas qui permet d'écrire les données d'un dataframe dans une BDD SQL."
   ]
  },
  {
   "cell_type": "code",
   "execution_count": null,
   "id": "da2442f5",
   "metadata": {},
   "outputs": [],
   "source": [
    "# insertion des données dans la table book\n",
    "\n",
    "# Valider les modifications et fermer la connexion\n",
    "conn.commit()\n",
    "conn.close()"
   ]
  },
  {
   "cell_type": "markdown",
   "id": "3c8e21eb",
   "metadata": {},
   "source": [
    "---\n",
    "## 3. Interroger la BDD en utilisant sqlite3\n",
    "\n",
    "Utiliser le tuto [sqlite3](https://docs.python.org/3/library/sqlite3.html#sqlite3-tutorial) pour interroger la BDD que vous avez créer dans la partie précédente :\n",
    "\n",
    "- ouvrir un connexion à la base, \n",
    "- utiliser un _cursor_,\n",
    "- Encore un peu de de SQL : écrire les requêtes SQL adaptées,\n",
    "- éxécuter les requêtes SQL."
   ]
  },
  {
   "cell_type": "code",
   "execution_count": null,
   "id": "76989753",
   "metadata": {},
   "outputs": [],
   "source": [
    "conn = \n",
    "cursor = "
   ]
  },
  {
   "cell_type": "code",
   "execution_count": null,
   "id": "57a8d442",
   "metadata": {},
   "outputs": [],
   "source": [
    "# compter le nombre de livres dans la base de données\n",
    "count = \n",
    "print(f\"Nombre de livres dans la base de données : {count}\")"
   ]
  },
  {
   "cell_type": "code",
   "execution_count": null,
   "id": "1aa176c0",
   "metadata": {},
   "outputs": [],
   "source": [
    "# Afficher le nombre total des livres en stock\n",
    "total_in_stock = \n",
    "print(f\"Nombre total des livres en stock : {total_in_stock}\")"
   ]
  },
  {
   "cell_type": "code",
   "execution_count": null,
   "id": "157dcfa9",
   "metadata": {},
   "outputs": [],
   "source": [
    "# Note moyenne des livres disponibles\n",
    "average_rating =\n",
    "print(f\"Note moyenne des livres disponibles : {average_rating:.2f}\")"
   ]
  },
  {
   "cell_type": "code",
   "execution_count": null,
   "id": "c0b0bf2e",
   "metadata": {},
   "outputs": [],
   "source": [
    "# Afficher les prix max et min des livres\n",
    "max_price = \n",
    "min_price =\n",
    "print(f\"Prix maximum : {max_price}, Prix minimum : {min_price}\")"
   ]
  },
  {
   "cell_type": "code",
   "execution_count": null,
   "id": "4f68532f",
   "metadata": {},
   "outputs": [],
   "source": [
    "# Afficher le nombre de livres par note\n"
   ]
  },
  {
   "cell_type": "markdown",
   "id": "f4a09a03",
   "metadata": {},
   "source": [
    "**BONUS**"
   ]
  },
  {
   "cell_type": "code",
   "execution_count": null,
   "id": "b4cc1ed0",
   "metadata": {},
   "outputs": [],
   "source": []
  },
  {
   "cell_type": "code",
   "execution_count": null,
   "id": "d2f80ca8",
   "metadata": {},
   "outputs": [],
   "source": [
    "# Afficher les livres qui coûtent plus cher que la moyenne"
   ]
  },
  {
   "cell_type": "code",
   "execution_count": null,
   "id": "88aa7e24",
   "metadata": {},
   "outputs": [],
   "source": [
    "# Trouver les livres dont le titre contient \"light\"\n"
   ]
  },
  {
   "cell_type": "markdown",
   "id": "92f18fc8",
   "metadata": {},
   "source": [
    "On récupère des titres avec le mot \"light\" mais également des titres contenant un mot qui contient \"light\" comme sous-mot (\"Twilight\" ou autre).\n",
    "\n",
    "\n",
    "Trouver les titres contenant exactement le mot \"light\"."
   ]
  },
  {
   "cell_type": "markdown",
   "id": "a03901c5",
   "metadata": {},
   "source": []
  }
 ],
 "metadata": {
  "kernelspec": {
   "display_name": "scrapenv",
   "language": "python",
   "name": "python3"
  },
  "language_info": {
   "codemirror_mode": {
    "name": "ipython",
    "version": 3
   },
   "file_extension": ".py",
   "mimetype": "text/x-python",
   "name": "python",
   "nbconvert_exporter": "python",
   "pygments_lexer": "ipython3",
   "version": "3.13.5"
  }
 },
 "nbformat": 4,
 "nbformat_minor": 5
}
